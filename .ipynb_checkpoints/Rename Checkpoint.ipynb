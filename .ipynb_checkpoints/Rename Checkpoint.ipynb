{
 "cells": [
  {
   "cell_type": "code",
   "execution_count": 4,
   "metadata": {},
   "outputs": [],
   "source": [
    "import os\n",
    "\n",
    "path = './'\n",
    "dirs = []\n",
    "# r=root, d=directories, f = files\n",
    "for r, d, f in os.walk(path):\n",
    "    for dirr in d:\n",
    "        dirs.append(os.path.join(r, dirr))\n",
    "ndirs=[]\n",
    "dirrr=[]\n",
    "for f in dirs:\n",
    "    if not f.startswith('./.git') :\n",
    "        dirrr.append(f)\n",
    "        w = f.replace('-', ' ')\n",
    "        w = w.title()\n",
    "        w = w.replace('.I', '.i')\n",
    "        w = w.replace('.ipynb_Checkpoints', '.ipynb_checkpoints')\n",
    "        \n",
    "        ndirs.append(w) \n",
    "for nn,on in zip(dirrr,ndirs):\n",
    "    try:\n",
    "#     print(nn,on)\n",
    "        os.rename(nn,on)\n",
    "    except Exception as e:\n",
    "        print(e)"
   ]
  },
  {
   "cell_type": "code",
   "execution_count": 7,
   "metadata": {},
   "outputs": [],
   "source": [
    "import os\n",
    "\n",
    "path = './'\n",
    "\n",
    "files = []\n",
    "# r=root, d=directories, f = files\n",
    "for r, d, f in os.walk(path):\n",
    "    for file in f:\n",
    "        if '.ipynb' in file:\n",
    "            files.append(os.path.join(r, file))\n",
    "nfiles = []\n",
    "for f in files:\n",
    "    w = f.replace('-', ' ')\n",
    "    w = w.title()\n",
    "    w = w.replace('.I', '.i')\n",
    "    w = w.replace('.ipynb_Checkpoints', '.ipynb_checkpoints')\n",
    "    nfiles.append(w)\n",
    "for nn,on in zip(nfiles,files):\n",
    "    try:\n",
    "#     print(nn,on)\n",
    "        os.rename(on,nn)\n",
    "    except Exception as e:\n",
    "        print(e)"
   ]
  }
 ],
 "metadata": {
  "kernelspec": {
   "display_name": "Python 3.7.3 64-bit",
   "language": "python",
   "name": "python37364bit7b58821a064a4bc4bdd064f222b33e8c"
  },
  "language_info": {
   "codemirror_mode": {
    "name": "ipython",
    "version": 3
   },
   "file_extension": ".py",
   "mimetype": "text/x-python",
   "name": "python",
   "nbconvert_exporter": "python",
   "pygments_lexer": "ipython3",
   "version": "3.7.3"
  }
 },
 "nbformat": 4,
 "nbformat_minor": 2
}
