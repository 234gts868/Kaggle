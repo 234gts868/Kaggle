{
 "cells": [
  {
   "cell_type": "code",
   "execution_count": null,
   "metadata": {
    "_uuid": "093e6bcbd039d3dce06f32c47e4bfa6c69d30fe1",
    "colab": {
     "base_uri": "https://localhost:8080/",
     "height": 122
    },
    "colab_type": "code",
    "id": "o_7zdELmhGgn",
    "outputId": "63e5fc1e-53f9-425b-e1b8-fff56f0ac84e"
   },
   "outputs": [],
   "source": [
    "import re\n",
    "from tqdm import tqdm\n",
    "from sklearn.utils import shuffle\n",
    "import numpy as np\n",
    "from tqdm import tqdm\n",
    "import bz2\n",
    "from keras.layers import *\n",
    "from keras.models import Model\n",
    "from keras.preprocessing.text import Tokenizer\n",
    "from keras.preprocessing.sequence import pad_sequences\n"
   ]
  },
  {
   "cell_type": "code",
   "execution_count": null,
   "metadata": {
    "_uuid": "6e29213d819811e44eea35a8b87af5276c7ce27b",
    "colab": {},
    "colab_type": "code",
    "id": "13psF-UxlLn1"
   },
   "outputs": [],
   "source": [
    "def splitReviewsLabels(lines):\n",
    "    reviews = []\n",
    "    labels = []\n",
    "    for review in tqdm(lines):\n",
    "        rev = reviewToX(review)\n",
    "        label = reviewToY(review)\n",
    "        reviews.append(rev[:512])\n",
    "        labels.append(label)\n",
    "    return reviews, labels"
   ]
  },
  {
   "cell_type": "code",
   "execution_count": null,
   "metadata": {
    "_uuid": "c0ce0e4c678d12ac91deaef433bf1d32b1f87bcf",
    "colab": {},
    "colab_type": "code",
    "id": "4nTvOtd7oWJM"
   },
   "outputs": [],
   "source": [
    "def reviewToY(review):\n",
    "    return [1,0] if review.split(' ')[0] == '__label__1' else [0,1] "
   ]
  },
  {
   "cell_type": "code",
   "execution_count": null,
   "metadata": {
    "_uuid": "9a4aa9856bea537502506833f1df9960f6172f15",
    "colab": {},
    "colab_type": "code",
    "id": "z2DijnI-plux"
   },
   "outputs": [],
   "source": [
    "def reviewToX(review):\n",
    "    review = review.split(' ', 1)[1][:-1].lower()\n",
    "    review = re.sub('\\d','0',review)\n",
    "    if 'www.' in review or 'http:' in review or 'https:' in review or '.com' in review:\n",
    "        review = re.sub(r\"([^ ]+(?<=\\.[a-z]{3}))\", \"<url>\", review)\n",
    "    return review"
   ]
  },
  {
   "cell_type": "code",
   "execution_count": null,
   "metadata": {
    "_uuid": "c596ea6c292833146271bdf36238fd8f527a1f06"
   },
   "outputs": [],
   "source": [
    "train_file = bz2.BZ2File('../input/train.ft.txt.bz2')\n",
    "test_file = bz2.BZ2File('../input/test.ft.txt.bz2')"
   ]
  },
  {
   "cell_type": "code",
   "execution_count": null,
   "metadata": {
    "_uuid": "5db1d078bb74a49c4f94cd12feb48ce52dd087a2"
   },
   "outputs": [],
   "source": [
    "train_lines = train_file.readlines()\n",
    "test_lines = test_file.readlines()"
   ]
  },
  {
   "cell_type": "code",
   "execution_count": null,
   "metadata": {
    "_uuid": "5af875b476a33943c6e5c7b7bc3986394e3a1fe3"
   },
   "outputs": [],
   "source": [
    "train_lines = [x.decode('utf-8') for x in train_lines]\n",
    "test_lines = [x.decode('utf-8') for x in test_lines]"
   ]
  },
  {
   "cell_type": "code",
   "execution_count": null,
   "metadata": {
    "_uuid": "766396c805eb0ec0bde8c7e99c3ca6212fcfebc3",
    "colab": {
     "base_uri": "https://localhost:8080/",
     "height": 51
    },
    "colab_type": "code",
    "id": "5l-8fcOPljvP",
    "outputId": "ab2281fe-798d-4568-ba21-8165b6633cfc"
   },
   "outputs": [],
   "source": [
    "# Load from the file\n",
    "reviews_train, y_train = splitReviewsLabels(train_lines)\n",
    "reviews_test, y_test = splitReviewsLabels(test_lines)"
   ]
  },
  {
   "cell_type": "code",
   "execution_count": null,
   "metadata": {
    "_uuid": "495b5ea2ed252900ea331ce7ab0cb29bba8ffd8b",
    "colab": {},
    "colab_type": "code",
    "id": "XZdy-T0mngO6"
   },
   "outputs": [],
   "source": [
    "reviews_train, y_train = shuffle(reviews_train, y_train)\n",
    "reviews_test, y_test = shuffle(reviews_test, y_test)"
   ]
  },
  {
   "cell_type": "code",
   "execution_count": null,
   "metadata": {
    "_uuid": "f481964b4d7579e2e8bf7c95b3e830e66fc2096b",
    "colab": {},
    "colab_type": "code",
    "id": "WwmN7WthnBgP"
   },
   "outputs": [],
   "source": [
    "y_train = np.array(y_train)\n",
    "y_test = np.array(y_test)"
   ]
  },
  {
   "cell_type": "code",
   "execution_count": null,
   "metadata": {
    "_uuid": "6a7453d9dc24333b89231a5244cff018de47b1fb",
    "colab": {},
    "colab_type": "code",
    "id": "fnkXf-lcQbq3"
   },
   "outputs": [],
   "source": [
    "max_features = 8192\n",
    "maxlen = 128\n",
    "embed_size = 64"
   ]
  },
  {
   "cell_type": "code",
   "execution_count": null,
   "metadata": {
    "_uuid": "215e6317713f4db778f17b347bfc354fc619aa98",
    "colab": {},
    "colab_type": "code",
    "id": "vvzUeeZAb11p"
   },
   "outputs": [],
   "source": [
    "tokenizer = Tokenizer(num_words=max_features)"
   ]
  },
  {
   "cell_type": "code",
   "execution_count": null,
   "metadata": {
    "_uuid": "8d9d66c0727b37f61015d45b865655e47910ea74",
    "colab": {},
    "colab_type": "code",
    "id": "-CZkOWKgb143"
   },
   "outputs": [],
   "source": [
    "tokenizer.fit_on_texts(reviews_train)"
   ]
  },
  {
   "cell_type": "code",
   "execution_count": null,
   "metadata": {
    "_uuid": "63e60c5241ef89e6727bd43611766a5829c6f497",
    "colab": {},
    "colab_type": "code",
    "id": "y8HdVs3Lb2Eo"
   },
   "outputs": [],
   "source": [
    "token_train = tokenizer.texts_to_sequences(reviews_train)\n",
    "token_test = tokenizer.texts_to_sequences(reviews_test)"
   ]
  },
  {
   "cell_type": "code",
   "execution_count": null,
   "metadata": {
    "_uuid": "0050e99ef94c651ffbce04277daf5fa85d87cc86",
    "colab": {},
    "colab_type": "code",
    "id": "oZMszUGKb2HP"
   },
   "outputs": [],
   "source": [
    "x_train = pad_sequences(token_train, maxlen=maxlen, padding='post')\n",
    "x_test = pad_sequences(token_test, maxlen=maxlen, padding='post')"
   ]
  },
  {
   "cell_type": "code",
   "execution_count": null,
   "metadata": {
    "_uuid": "b48b02b5a43a9ea37c559ff6a76355c5c7dd1d33",
    "colab": {},
    "colab_type": "code",
    "id": "1IzD5S5u4Ban",
    "scrolled": true
   },
   "outputs": [],
   "source": [
    "input = Input(shape=(maxlen,))\n",
    "net = Embedding(max_features, embed_size)(input)\n",
    "net = Dropout(0.2)(net)\n",
    "net = BatchNormalization()(net)\n",
    "\n",
    "net = Conv1D(32, 7, padding='same', activation='relu')(net)\n",
    "net = BatchNormalization()(net)\n",
    "net = Conv1D(32, 3, padding='same', activation='relu')(net)\n",
    "net = BatchNormalization()(net)\n",
    "net = Conv1D(32, 3, padding='same', activation='relu')(net)\n",
    "net = BatchNormalization()(net)\n",
    "net = Conv1D(32, 3, padding='same', activation='relu')(net)\n",
    "net1 = BatchNormalization()(net)\n",
    "\n",
    "net = Conv1D(2, 1)(net)\n",
    "net = GlobalAveragePooling1D()(net)\n",
    "output = Activation('softmax')(net)\n",
    "model = Model(inputs = input, outputs = output)\n",
    "model.compile(optimizer='adam', loss='categorical_crossentropy', metrics=['acc'])\n",
    "model.summary()"
   ]
  },
  {
   "cell_type": "code",
   "execution_count": null,
   "metadata": {
    "_uuid": "4232ed31bd96068f35380b9bf9c585ea2bab685e",
    "colab": {
     "base_uri": "https://localhost:8080/",
     "height": 190
    },
    "colab_type": "code",
    "id": "RaLqVOrclW57",
    "outputId": "7aaa44bc-6832-4cac-dc41-4c1a2c9b16ca",
    "scrolled": false
   },
   "outputs": [],
   "source": [
    "model.fit(x_train, y_train, batch_size=2048, epochs=5, validation_split=0.1)"
   ]
  },
  {
   "cell_type": "code",
   "execution_count": null,
   "metadata": {
    "_uuid": "68bf9815eefc1635f6974844ea24009c9b86f029",
    "colab": {
     "base_uri": "https://localhost:8080/",
     "height": 51
    },
    "colab_type": "code",
    "id": "9SsWJHB16o3B",
    "outputId": "99176d2b-603d-45e5-e4e7-6478dfbd4744"
   },
   "outputs": [],
   "source": [
    "model.evaluate (x_test, y_test)"
   ]
  },
  {
   "cell_type": "code",
   "execution_count": null,
   "metadata": {
    "_uuid": "e7f2de5066fbf5218fe6266065a32fe8d1d82063"
   },
   "outputs": [],
   "source": []
  }
 ],
 "metadata": {
  "accelerator": "GPU",
  "colab": {
   "collapsed_sections": [],
   "name": "sentiment analysis.ipynb",
   "provenance": [],
   "version": "0.3.2"
  },
  "kernelspec": {
   "display_name": "Python 3",
   "language": "python",
   "name": "python3"
  },
  "language_info": {
   "codemirror_mode": {
    "name": "ipython",
    "version": 3
   },
   "file_extension": ".py",
   "mimetype": "text/x-python",
   "name": "python",
   "nbconvert_exporter": "python",
   "pygments_lexer": "ipython3",
   "version": "3.6.8"
  }
 },
 "nbformat": 4,
 "nbformat_minor": 2
}
